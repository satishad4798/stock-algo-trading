{
 "cells": [
  {
   "cell_type": "code",
   "execution_count": null,
   "metadata": {},
   "outputs": [],
   "source": [
    "from selenium import webdriver\n",
    "from selenium.webdriver.chrome.service import Service\n",
    "from selenium.webdriver.common.by import By\n",
    "from selenium.webdriver.support.ui import WebDriverWait\n",
    "from selenium.webdriver.support import expected_conditions as EC\n",
    "import os\n",
    "import time\n",
    "from webdriver_manager.chrome import ChromeDriverManager\n",
    "from datetime import datetime\n",
    "import pandas as pd\n",
    "import glob  \n",
    "\n",
    "current_date = datetime.now()\n",
    "formatted_date = current_date.strftime(\"%d-%b-%Y\")\n",
    "\n",
    "\n",
    "def getCsvFileName():\n",
    "    # Get the current date\n",
    "    current_date = datetime.now()\n",
    "\n",
    "    # Format the date as 'dd-MMM-yyyy'\n",
    "    formatted_date = current_date.strftime(\"%d-%b-%Y\")\n",
    "\n",
    "    # Create the new filename with the current date\n",
    "    filename = f\"CF-Event-equities-{formatted_date}.csv\"\n",
    "    return filename\n",
    "\n",
    "def getBulkCsvFileName():\n",
    "    today = datetime.date.today()  # Add parentheses here  \n",
    "    start_date = today - datetime.timedelta(days=7)  \n",
    "    end_date = today  \n",
    "\n",
    "    file_name = f\"Bulk-Deals-{start_date.strftime('%d-%m-%Y')}-to-{end_date.strftime('%d-%m-%Y')}.csv\"  \n",
    "    print(file_name)\n",
    "    return file_name\n",
    "\n",
    "def download_pdf(url ,buttonName):\n",
    "    # Initialize the WebDriver using WebDriver Manager\n",
    "    service = Service(ChromeDriverManager().install())\n",
    "    driver = webdriver.Chrome(service=service)\n",
    "    \n",
    "    # Open the NSE India corporate filings event calendar page\n",
    "    driver.get(url)\n",
    "    \n",
    "    try:\n",
    "        # Wait for the download button to be clickable\n",
    "        wait = WebDriverWait(driver, 20)\n",
    "        download_button = wait.until(EC.element_to_be_clickable((By.ID,buttonName)))\n",
    "\n",
    "        # Click the download button\n",
    "        download_button.click()\n",
    "        \n",
    "        # Wait for the file to download\n",
    "        time.sleep(5)  # Adjust sleep time as needed based on download speed\n",
    "\n",
    "        # Assuming the file is downloaded to the default download directory\n",
    "        download_dir = os.path.expanduser('~/Downloads')\n",
    "        downloaded_file_path = os.path.join(download_dir, 'Corporate Filings Event Calendar.csv')\n",
    "\n",
    "        # Check if the file was downloaded successfully\n",
    "        # if os.path.exists(downloaded_file_path):\n",
    "        #     print(f\"File downloaded successfully: {downloaded_file_path}\")\n",
    "        # else:\n",
    "        #     print(\"File download failed.\")\n",
    "    finally:\n",
    "        # Close the WebDriver\n",
    "        driver.quit()\n",
    "\n",
    "filename=getCsvFileName()\n",
    "download_dir = os.path.expanduser('~/Downloads')\n",
    "downloaded_file_path = os.path.join(download_dir, filename)\n",
    "\n",
    "print(filename)\n",
    "#Download earning dates\n",
    "for i in range(1, 10):  \n",
    "    if os.path.exists(downloaded_file_path):\n",
    "        print(f\"File downloaded successfully: {downloaded_file_path}\")\n",
    "        break     \n",
    "    download_pdf('https://www.nseindia.com/companies-listing/corporate-filings-event-calendar',\"CFeventCalendar-download\")\n",
    "\n",
    "# Load the CSV into a DataFrame\n",
    "earnings_df = pd.read_csv(downloaded_file_path)\n",
    "earnings_df.columns = earnings_df.columns.str.strip().str.replace('\\n', '', regex=False)\n",
    "earnings_df = earnings_df.applymap(lambda x: x.strip() if isinstance(x, str) else x)\n",
    "\n",
    "print(earnings_df.head)\n",
    "\n",
    "#downloaded_file_path = os.path.join(download_dir, getBulkCsvFileName())\n",
    "downloaded_file_path = os.path.join(download_dir,\"Bulk-Deals-15-07-2024-to-22-07-2024.csv\")\n",
    "\n",
    "print(filename)\n",
    "# Download earning dates\n",
    "for i in range(1, 10):  \n",
    "    if os.path.exists(downloaded_file_path):\n",
    "        print(f\"File downloaded successfully: {downloaded_file_path}\")\n",
    "        break    \n",
    "    download_pdf(\"https://www.nseindia.com/report-detail/display-bulk-and-block-deals\",'HistBulkBlockDeals-download')\n",
    "\n",
    "\n",
    "# Load the CSV into a DataFrame\n",
    "bulk_deals_df = pd.read_csv(downloaded_file_path)\n",
    "bulk_deals_df.columns = bulk_deals_df.columns.str.strip().str.replace('\\n', '', regex=False)\n",
    "bulk_deals_df = bulk_deals_df.applymap(lambda x: x.strip() if isinstance(x, str) else x)\n",
    "\n",
    "print(bulk_deals_df)\n"
   ]
  },
  {
   "cell_type": "code",
   "execution_count": null,
   "metadata": {},
   "outputs": [],
   "source": [
    "# Rename columns to match\n",
    "bulk_deals_df.rename(columns={'Symbol':'SYMBOL'}, inplace=True)\n",
    "# Rename columns to match\n",
    "bulk_deals_df.rename(columns={'Buy / Sell':'BUY_SELL'}, inplace=True)\n"
   ]
  },
  {
   "cell_type": "code",
   "execution_count": null,
   "metadata": {},
   "outputs": [],
   "source": [
    "# # Add a helper column for sorting and grouping\n",
    "# bulk_deals_df['Helper'] = bulk_deals_df.apply(lambda x: (x['Date'], x['SYMBOL'], x['Client Name'], x['Quantity Traded']), axis=1)\n",
    "\n",
    "# # Group by helper column and filter out the groups with both buy and sell\n",
    "# grouped = bulk_deals_df.groupby('Helper').filter(lambda x: not ('BUY' in x['BUY_SELL'].values and 'SELL' in x['BUY_SELL'].values))\n",
    "\n",
    "# # Drop the helper column\n",
    "# bulk_deals_df = grouped.drop(columns=['Helper'])\n",
    "\n",
    "# bulk_deals_df.to_csv(\"remove_dep.csv\")\n",
    "# # Print the resulting DataFrame\n",
    "# print(bulk_deals_df)"
   ]
  },
  {
   "cell_type": "code",
   "execution_count": 43,
   "metadata": {},
   "outputs": [],
   "source": [
    "# Merge DataFrames on 'SYMBOL'\n",
    "merged_df = pd.merge(earnings_df, bulk_deals_df, on='SYMBOL', how='inner')\n",
    "merged_df.drop(columns=['DETAILS','Security Name','Remarks','Date'], inplace=True)\n",
    "merged_df['Quantity Traded'] = merged_df['Quantity Traded'].str.replace(',', '').astype(int)\n",
    "merged_df['Quantity Traded'] = merged_df.apply(\n",
    "    lambda row: -row['Quantity Traded'] if row['BUY_SELL'] == 'SELL' else row['Quantity Traded'],\n",
    "    axis=1\n",
    ")\n",
    "merged_df.to_csv('results/matching_bulk_stocks.csv', index=False)\n"
   ]
  },
  {
   "cell_type": "markdown",
   "metadata": {},
   "source": [
    "# client level orders"
   ]
  },
  {
   "cell_type": "code",
   "execution_count": 55,
   "metadata": {},
   "outputs": [
    {
     "name": "stdout",
     "output_type": "stream",
     "text": [
      "       SYMBOL                                        Client Name  \\\n",
      "2   CYBERTECH                               HRTI PRIVATE LIMITED   \n",
      "3    GODREJCP                                  R K N ENTERPRISES   \n",
      "7        MTNL                               AAKRAYA RESEARCH LLP   \n",
      "8        MTNL                              BONANZA PORTFOLIO LTD   \n",
      "10       MTNL            DIPAN MEHTA COMMODITIES PRIVATE LIMITED   \n",
      "11       MTNL                        F3 ADVISORS PRIVATE LIMITED   \n",
      "13       MTNL                               HRTI PRIVATE LIMITED   \n",
      "14       MTNL                             JAINAM BROKING LIMITED   \n",
      "15       MTNL                    JSI INVESTMENTS PRIVATE LIMITED   \n",
      "16       MTNL                               KAMLESH BABALAL SHAH   \n",
      "17       MTNL             MANSI SHARE AND STOCK ADVISORS PVT LTD   \n",
      "19       MTNL  MULTIPLIER SHARE & STOCK ADVISORS PRIVATE LIMITED   \n",
      "21       MTNL                 NAMAN SECURITIES & FINANCE PVT LTD   \n",
      "23       MTNL                                  QE SECURITIES LLP   \n",
      "24       MTNL               QUADRATURE CAPITAL VECTOR SP LIMITED   \n",
      "25       MTNL                            SETU SECURITIES PVT LTD   \n",
      "26       MTNL                     SHARE INDIA SECURITIES LIMITED   \n",
      "30   ONMOBILE                               HRTI PRIVATE LIMITED   \n",
      "31   ONMOBILE                                  QE SECURITIES LLP   \n",
      "39       TTML                               AAKRAYA RESEARCH LLP   \n",
      "41       TTML                               HRTI PRIVATE LIMITED   \n",
      "\n",
      "    Quantity Traded                     Trade Price / Wght. Avg. Price  \n",
      "2              2875                                   [206.00, 206.42]  \n",
      "3         -11392858                                         [1,443.90]  \n",
      "7             10778         [53.35, 53.40, 60.53, 60.59, 68.96, 69.04]  \n",
      "8           -435347                                     [69.27, 68.56]  \n",
      "10            88018                                     [61.08, 60.42]  \n",
      "11          -108000                                     [69.63, 69.79]  \n",
      "13          3397320  [49.73, 49.66, 53.11, 53.18, 59.60, 59.23, 69....  \n",
      "14          -739404                                     [61.31, 59.08]  \n",
      "15           433699                                     [69.32, 68.32]  \n",
      "16         -7281000         [48.26, 49.63, 55.70, 58.87, 68.20, 69.85]  \n",
      "17          1143789                       [64.05, 63.74, 70.28, 70.07]  \n",
      "19            37626                                     [70.31, 70.45]  \n",
      "21            11900                       [61.30, 61.13, 69.08, 68.80]  \n",
      "23          -443399  [49.59, 49.79, 53.13, 53.20, 59.76, 60.32, 69....  \n",
      "24          -358581                              [61.62, 55.45, 69.00]  \n",
      "25          -626078                                     [70.30, 69.87]  \n",
      "26             3171                       [63.10, 62.87, 69.70, 69.61]  \n",
      "30           111453                                     [85.36, 85.39]  \n",
      "31           -65627                                     [85.66, 85.86]  \n",
      "39             1092                                   [105.46, 105.51]  \n",
      "41          2048284                     [90.92, 90.17, 105.34, 106.02]  \n"
     ]
    }
   ],
   "source": [
    "# Group by 'SYMBOL' and 'Client Name' and aggregate the values\n",
    "result_df = merged_df.groupby(['SYMBOL', 'Client Name']).agg({\n",
    "    'Quantity Traded': 'sum',\n",
    "    'Trade Price / Wght. Avg. Price': lambda x: list(x)\n",
    "}).reset_index()\n",
    "\n",
    "client_level_group = result_df[result_df['Quantity Traded'] != 0]\n",
    "\n",
    "client_level_group.to_csv(\"results/final_client_level.csv\")\n",
    "\n",
    "print(client_level_group)"
   ]
  },
  {
   "cell_type": "code",
   "execution_count": 56,
   "metadata": {},
   "outputs": [
    {
     "name": "stdout",
     "output_type": "stream",
     "text": [
      "      SYMBOL  Quantity Traded  \\\n",
      "0  CYBERTECH             2875   \n",
      "1   GODREJCP        -11392858   \n",
      "2       MTNL         -4865508   \n",
      "3   ONMOBILE            45826   \n",
      "4       TTML          2049376   \n",
      "\n",
      "                      Trade Price / Wght. Avg. Price  \n",
      "0                                 [[206.00, 206.42]]  \n",
      "1                                       [[1,443.90]]  \n",
      "2  [[53.35, 53.40, 60.53, 60.59, 68.96, 69.04], [...  \n",
      "3                   [[85.36, 85.39], [85.66, 85.86]]  \n",
      "4  [[105.46, 105.51], [90.92, 90.17, 105.34, 106....  \n"
     ]
    }
   ],
   "source": [
    "# Group by 'SYMBOL' and 'Client Name' and aggregate the values\n",
    "stock_level_group = client_level_group.groupby(['SYMBOL']).agg({\n",
    "    'Quantity Traded': 'sum',\n",
    "        'Trade Price / Wght. Avg. Price': lambda x: list(x),\n",
    "\n",
    "    'Client Name': lambda x: list(x),\n",
    "        ' Quantity Traded': lambda x: list(x)\n",
    "\n",
    "   \n",
    "}).reset_index()\n",
    "\n",
    "\n",
    "stock_level_group.to_csv(\"results/final_stock_level.csv\")\n",
    "\n",
    "print(stock_level_group)"
   ]
  },
  {
   "cell_type": "code",
   "execution_count": 36,
   "metadata": {},
   "outputs": [
    {
     "data": {
      "text/plain": [
       "(      SYMBOL BUY_SELL                                       Client Names  \\\n",
       " 0  CYBERTECH      BUY                               HRTI PRIVATE LIMITED   \n",
       " 1  CYBERTECH     SELL                               HRTI PRIVATE LIMITED   \n",
       " 2   GODREJCP     SELL                                  R K N ENTERPRISES   \n",
       " 3       MTNL      BUY  HRTI PRIVATE LIMITED, KAMLESH BABALAL SHAH, QE...   \n",
       " 4       MTNL     SELL  HRTI PRIVATE LIMITED, KAMLESH BABALAL SHAH, QE...   \n",
       " \n",
       "                                Total Quantity Traded  \n",
       " 0                                           1,69,205  \n",
       " 1                                           1,66,330  \n",
       " 2                                        1,13,92,858  \n",
       " 3  71,65,2837,98,08538,11,41854,67,95836,62,45418...  \n",
       " 4  72,87,24032,28,08538,94,84358,60,47638,38,5481...  ,\n",
       " '/mnt/data/processed_bulk_stocks.csv')"
      ]
     },
     "execution_count": 36,
     "metadata": {},
     "output_type": "execute_result"
    }
   ],
   "source": [
    "# Step 2: Remove rows where the same \"Client Name\" has BUY and SELL with the same \"Quantity Traded\"\n",
    "# Creating a key based on Client Name and Quantity Traded\n",
    "merged_df['key'] = merged_df['Client Name'] + '-' + merged_df['Quantity Traded'].astype(str)\n",
    "\n",
    "# Grouping by the key and filtering out groups that have both BUY and SELL with the same quantity\n",
    "filtered_df = merged_df.groupby('key').filter(lambda x: not (x['BUY_SELL'].nunique() > 1 and len(x) > 1))\n",
    "\n",
    "# Dropping the temporary key column\n",
    "filtered_df = filtered_df.drop(columns=['key'])\n",
    "\n",
    "# Step 3: Group by SYMBOL, COMPANY, and BUY_SELL, and aggregate the results\n",
    "result_df = filtered_df.groupby(['SYMBOL', 'BUY_SELL']).agg(\n",
    "    clients=('Client Name', lambda x: ', '.join(x.unique())),\n",
    "    total_quantity_traded=('Quantity Traded', 'sum')\n",
    ").reset_index()\n",
    "\n",
    "# Renaming columns as needed\n",
    "result_df.rename(columns={\n",
    "    'SYMBOL': 'SYMBOL',\n",
    "    'Security Name': 'COMPANY',\n",
    "    'Buy / Sell': 'BUY_SELL',\n",
    "    'clients': 'Client Names',\n",
    "    'total_quantity_traded': 'Total Quantity Traded'\n",
    "}, inplace=True)\n",
    "\n",
    "# Save the result to a CSV file\n",
    "result_df.to_csv(\"results/filtered.csv\", index=False)\n",
    "\n",
    "result_df.head(), output_path"
   ]
  },
  {
   "cell_type": "code",
   "execution_count": null,
   "metadata": {},
   "outputs": [],
   "source": [
    "\n",
    "# Group by 'SYMBOL' and 'Buy / Sell' and aggregate\n",
    "result_df = merged_df.groupby(['SYMBOL', 'BUY_SELL']).agg(\n",
    "    frequency=('Client Name', 'size'),\n",
    "    clients=('Client Name', lambda x: list(x.unique()))\n",
    ").reset_index()\n",
    "\n"
   ]
  },
  {
   "cell_type": "code",
   "execution_count": 23,
   "metadata": {},
   "outputs": [
    {
     "data": {
      "text/plain": [
       "Index(['SYMBOL', 'BUY_SELL', 'frequency', 'clients'], dtype='object')"
      ]
     },
     "execution_count": 23,
     "metadata": {},
     "output_type": "execute_result"
    }
   ],
   "source": []
  },
  {
   "cell_type": "code",
   "execution_count": null,
   "metadata": {},
   "outputs": [],
   "source": [
    "# Rename columns correctly\n",
    "result_df.columns = ['SYMBOL', 'BUY_SELL', 'frequency', 'clients']\n",
    "\n",
    "# Print the result DataFrame\n",
    "print(result_df)\n",
    "\n",
    "# Save to CSV\n",
    "result_df.to_csv('final_result.csv', index=False)"
   ]
  }
 ],
 "metadata": {
  "kernelspec": {
   "display_name": ".venv",
   "language": "python",
   "name": "python3"
  },
  "language_info": {
   "codemirror_mode": {
    "name": "ipython",
    "version": 3
   },
   "file_extension": ".py",
   "mimetype": "text/x-python",
   "name": "python",
   "nbconvert_exporter": "python",
   "pygments_lexer": "ipython3",
   "version": "3.9.6"
  }
 },
 "nbformat": 4,
 "nbformat_minor": 2
}
