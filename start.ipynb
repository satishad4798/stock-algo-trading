{
 "cells": [
  {
   "cell_type": "markdown",
   "metadata": {},
   "source": [
    "# Delete all old results"
   ]
  },
  {
   "cell_type": "code",
   "execution_count": null,
   "metadata": {},
   "outputs": [],
   "source": [
    "pip install -r requirements.txt"
   ]
  },
  {
   "cell_type": "code",
   "execution_count": null,
   "metadata": {},
   "outputs": [],
   "source": [
    "import os\n",
    "import glob\n",
    "from babel.numbers import format_decimal\n",
    "\n",
    "# Define the pattern to match all .csv files\n",
    "csv_files = glob.glob(\"*.csv\")\n",
    "\n",
    "# Loop through the list of files and delete each one\n",
    "for file in csv_files:\n",
    "    os.remove(file)\n",
    "    print(f\"Deleted: {file}\")\n",
    "\n",
    "print(\"All .csv files in the current directory have been deleted.\")"
   ]
  },
  {
   "cell_type": "markdown",
   "metadata": {},
   "source": [
    "# Download Upcoming earning and Bulk-order on stocks from NSE"
   ]
  },
  {
   "cell_type": "code",
   "execution_count": null,
   "metadata": {},
   "outputs": [],
   "source": [
    "from selenium import webdriver\n",
    "from selenium.webdriver.chrome.service import Service\n",
    "from selenium.webdriver.common.by import By\n",
    "from selenium.webdriver.support.ui import WebDriverWait\n",
    "from selenium.webdriver.support import expected_conditions as EC\n",
    "import os\n",
    "import time\n",
    "from webdriver_manager.chrome import ChromeDriverManager\n",
    "from datetime import datetime\n",
    "import pandas as pd\n",
    "import glob  \n",
    "from datetime import datetime, timedelta\n",
    "\n",
    "current_date = datetime.now()\n",
    "formatted_date = current_date.strftime(\"%d-%b-%Y\")\n",
    "\n",
    "\n",
    "def getCsvFileName():\n",
    "    # Get the current date\n",
    "    current_date = datetime.now()\n",
    "\n",
    "    # Format the date as 'dd-MMM-yyyy'\n",
    "    formatted_date = current_date.strftime(\"%d-%b-%Y\")\n",
    "\n",
    "    # Create the new filename with the current date\n",
    "    filename = f\"CF-Event-equities-{formatted_date}.csv\"\n",
    "    return filename\n",
    "\n",
    "def getBulkCsvFileName():\n",
    "    today = datetime.today()\n",
    "    \n",
    "    # Calculate the start and end dates\n",
    "    start_date = today - timedelta(days=7)\n",
    "    end_date = today\n",
    "    \n",
    "    # Format the filename\n",
    "    file_name = f\"Bulk-Deals-{start_date.strftime('%d-%m-%Y')}-to-{end_date.strftime('%d-%m-%Y')}.csv\"\n",
    "    return file_name\n",
    "\n",
    "def download_pdf(url ,download_click):\n",
    "    # Initialize the WebDriver using WebDriver Manager\n",
    "    service = Service(ChromeDriverManager().install())\n",
    "    driver = webdriver.Chrome(service=service)\n",
    "    \n",
    "    # Open the NSE India corporate filings event calendar page\n",
    "    driver.get(url)\n",
    "\n",
    "    try:\n",
    "        # Wait for the download button to be clickable\n",
    "        wait = WebDriverWait(driver, 20)\n",
    "        download_button = wait.until(EC.element_to_be_clickable((By.ID,download_click)))\n",
    "\n",
    "        time.sleep(5)\n",
    "        # Click the download button\n",
    "        download_button.click()\n",
    "        \n",
    "        # Wait for the file to download\n",
    "        time.sleep(5)  # Adjust sleep time as needed based on download speed\n",
    "\n",
    "        # Assuming the file is downloaded to the default download directory\n",
    "        download_dir = os.path.expanduser('~/Downloads')\n",
    "        downloaded_file_path = os.path.join(download_dir, 'Corporate Filings Event Calendar.csv')\n",
    "\n",
    "        # Check if the file was downloaded successfully\n",
    "        # if os.path.exists(downloaded_file_path):\n",
    "        #     print(f\"File downloaded successfully: {downloaded_file_path}\")\n",
    "        # else:\n",
    "        #     print(\"File download failed.\")\n",
    "    finally:\n",
    "        # Close the WebDriver\n",
    "        driver.quit()\n",
    "\n",
    "filename=getCsvFileName()\n",
    "download_dir = os.path.expanduser('~/Downloads')\n",
    "downloaded_file_path = os.path.join(download_dir, filename)\n",
    "\n",
    "print(filename)\n",
    "#Download earning dates\n",
    "for i in range(1, 10):  \n",
    "    if os.path.exists(downloaded_file_path):\n",
    "        print(f\"File downloaded successfully: {downloaded_file_path}\")\n",
    "        break     \n",
    "    download_pdf('https://www.nseindia.com/companies-listing/corporate-filings-event-calendar',\"CFeventCalendar-download\")\n",
    "\n",
    "# Load the CSV into a DataFrame\n",
    "earnings_df = pd.read_csv(downloaded_file_path)\n",
    "earnings_df.columns = earnings_df.columns.str.strip().str.replace('\\n', '', regex=False)\n",
    "earnings_df = earnings_df.applymap(lambda x: x.strip() if isinstance(x, str) else x)\n",
    "\n",
    "print(earnings_df.head)\n",
    "\n",
    "downloaded_file_path = os.path.join(download_dir, getBulkCsvFileName())\n",
    "\n",
    "print(filename)\n",
    "# Download earning dates\n",
    "for i in range(1, 10):  \n",
    "    if os.path.exists(downloaded_file_path):\n",
    "        print(f\"File downloaded successfully: {downloaded_file_path}\")\n",
    "        break    \n",
    "    download_pdf(\"https://www.nseindia.com/report-detail/display-bulk-and-block-deals\",'HistBulkBlockDeals-download')\n",
    "\n",
    "\n",
    "# Load the CSV into a DataFrame\n",
    "bulk_deals_df = pd.read_csv(downloaded_file_path)\n",
    "bulk_deals_df.columns = bulk_deals_df.columns.str.strip().str.replace('\\n', '', regex=False)\n",
    "bulk_deals_df = bulk_deals_df.applymap(lambda x: x.strip() if isinstance(x, str) else x)\n",
    "\n",
    "print(bulk_deals_df)\n"
   ]
  },
  {
   "cell_type": "code",
   "execution_count": null,
   "metadata": {},
   "outputs": [],
   "source": [
    "# Rename columns to match\n",
    "bulk_deals_df.rename(columns={'Symbol':'SYMBOL'}, inplace=True)\n",
    "bulk_deals_df.rename(columns={'Date':'order date'}, inplace=True)\n",
    "bulk_deals_df.rename(columns={'DATE':'Earning date'}, inplace=True)\n",
    "bulk_deals_df.rename(columns={'Trade Price / Wght. Avg. Price':'Price'}, inplace=True)\n",
    "\n",
    "# Rename columns to match\n",
    "bulk_deals_df.rename(columns={'Buy / Sell':'BUY_SELL'}, inplace=True)\n"
   ]
  },
  {
   "cell_type": "code",
   "execution_count": null,
   "metadata": {},
   "outputs": [],
   "source": [
    "# # Add a helper column for sorting and grouping\n",
    "# bulk_deals_df['Helper'] = bulk_deals_df.apply(lambda x: (x['Date'], x['SYMBOL'], x['Client Name'], x['Quantity Traded']), axis=1)\n",
    "\n",
    "# # Group by helper column and filter out the groups with both buy and sell\n",
    "# grouped = bulk_deals_df.groupby('Helper').filter(lambda x: not ('BUY' in x['BUY_SELL'].values and 'SELL' in x['BUY_SELL'].values))\n",
    "\n",
    "# # Drop the helper column\n",
    "# bulk_deals_df = grouped.drop(columns=['Helper'])\n",
    "\n",
    "# bulk_deals_df.to_csv(\"remove_dep.csv\")\n",
    "# # Print the resulting DataFrame\n",
    "# print(bulk_deals_df)"
   ]
  },
  {
   "cell_type": "code",
   "execution_count": null,
   "metadata": {},
   "outputs": [],
   "source": [
    "# Merge DataFrames on 'SYMBOL'\n",
    "merged_df = pd.merge(earnings_df, bulk_deals_df, on='SYMBOL', how='inner')\n",
    "merged_df.drop(columns=['DETAILS','Security Name','Remarks','PURPOSE'], inplace=True)\n",
    "merged_df['Quantity Traded'] = merged_df['Quantity Traded'].str.replace(',', '').astype(int)\n",
    "merged_df['Price'] = merged_df['Price'].str.replace(',', '').astype(float)\n",
    "\n",
    "merged_df['Quantity Traded'] = merged_df.apply(\n",
    "    lambda row: -row['Quantity Traded'] if row['BUY_SELL'] == 'SELL' else row['Quantity Traded'],\n",
    "    axis=1\n",
    ")\n",
    "merged_df.to_csv('bulk_deals_with_upcoming.csv', index=False)\n"
   ]
  },
  {
   "cell_type": "markdown",
   "metadata": {},
   "source": [
    "# client level orders"
   ]
  },
  {
   "cell_type": "code",
   "execution_count": null,
   "metadata": {},
   "outputs": [],
   "source": [
    "# Group by 'SYMBOL' and 'Client Name' and aggregate the values\n",
    "result_df = merged_df.groupby(['SYMBOL', 'Client Name']).agg({\n",
    "    'Quantity Traded': 'sum',\n",
    "    'Price': 'mean'\n",
    "}).reset_index()\n",
    "\n",
    "client_level_group = result_df[result_df['Quantity Traded'] != 0]\n",
    "\n",
    "client_level_group.to_csv(\"client level.csv\")\n",
    "\n",
    "print(client_level_group)"
   ]
  },
  {
   "cell_type": "markdown",
   "metadata": {},
   "source": [
    "# Stock level bulk orders"
   ]
  },
  {
   "cell_type": "code",
   "execution_count": null,
   "metadata": {},
   "outputs": [],
   "source": [
    "# Group by 'SYMBOL' and 'Client Name' and aggregate the values\n",
    "stock_level_group = client_level_group.groupby(['SYMBOL']).agg({\n",
    "    'Quantity Traded': 'sum',\n",
    "    'Price': 'mean',\n",
    "    'Client Name': lambda x: list(x)\n",
    "\n",
    "   \n",
    "}).reset_index()\n",
    "\n",
    "total_value= stock_level_group[\"Quantity Traded\"]* stock_level_group[\"Price\"]\n",
    "stock_level_group.insert(3, 'Total Amount', total_value)\n",
    "stock_level_group['Total Amount'] = stock_level_group['Total Amount'].astype(int)\n",
    "\n",
    "\n",
    "# Custom function to format numbers in Indian style using babel\n",
    "def format_number_in_indian_style(number):\n",
    "    return format_decimal(number, locale='en_IN')\n",
    "\n",
    "stock_level_group['Total Amount'] = stock_level_group['Total Amount'].apply(format_number_in_indian_style)\n",
    "\n",
    "stock_level_group.to_csv(\"final stocks.csv\")\n",
    "\n",
    "\n",
    "\n"
   ]
  },
  {
   "cell_type": "markdown",
   "metadata": {},
   "source": [
    "# Bulk SOLD stocks, whose Earning is in this Week"
   ]
  },
  {
   "cell_type": "code",
   "execution_count": null,
   "metadata": {},
   "outputs": [],
   "source": [
    "stock_with_negative_move=stock_level_group[stock_level_group[\"Quantity Traded\"]<0]\n",
    "print(stock_with_negative_move.loc[:,[\"SYMBOL\",\"Quantity Traded\"]])\n",
    "\n",
    "print(\"\\n\\n Bulk SOLD stocks, whose Earning is in this Week\")\n",
    "listOfStocks=stock_with_negative_move[\"SYMBOL\"].tolist()\n",
    "\n",
    "for each in listOfStocks:\n",
    "    print(\"\\nhttps://in.tradingview.com/chart/YRlxk2JY/?symbol=NSE%3A\"+each)\n",
    "# for symbol in stock_with_positive_move['SYMBOL'].to_string(index=False):\n",
    "#     print(symbol)\n"
   ]
  },
  {
   "cell_type": "markdown",
   "metadata": {},
   "source": [
    "# Bulk Bought stocks, whose Earning is in this Week"
   ]
  },
  {
   "cell_type": "code",
   "execution_count": null,
   "metadata": {},
   "outputs": [],
   "source": [
    "\n",
    "stock_with_positive_move=stock_level_group[stock_level_group[\"Quantity Traded\"]>0]\n",
    "print(stock_with_positive_move.loc[:,[\"SYMBOL\",\"Quantity Traded\"]])\n",
    "\n",
    "print(\"\\n\\n Bulk Bought stocks, whose Earning is in this Week\")\n",
    "\n",
    "listOfStocks=stock_with_positive_move[\"SYMBOL\"].tolist()\n",
    "\n",
    "for each in listOfStocks:\n",
    "    print(\"\\nhttps://in.tradingview.com/chart/YRlxk2JY/?symbol=NSE%3A\"+each)\n",
    "# for symbol in stock_with_positive_move['SYMBOL'].to_string(index=False):\n",
    "#     print(symbol)\n"
   ]
  }
 ],
 "metadata": {
  "kernelspec": {
   "display_name": ".venv",
   "language": "python",
   "name": "python3"
  },
  "language_info": {
   "codemirror_mode": {
    "name": "ipython",
    "version": 3
   },
   "file_extension": ".py",
   "mimetype": "text/x-python",
   "name": "python",
   "nbconvert_exporter": "python",
   "pygments_lexer": "ipython3",
   "version": "3.12.4"
  }
 },
 "nbformat": 4,
 "nbformat_minor": 2
}
