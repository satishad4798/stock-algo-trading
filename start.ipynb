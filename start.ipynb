{
 "cells": [
  {
   "cell_type": "code",
   "execution_count": 3,
   "metadata": {},
   "outputs": [
    {
     "name": "stdout",
     "output_type": "stream",
     "text": [
      "CF-Event-equities-22-Jul-2024.csv\n",
      "File downloaded successfully: /Users/satish.dappure/Downloads/CF-Event-equities-22-Jul-2024.csv\n"
     ]
    },
    {
     "name": "stderr",
     "output_type": "stream",
     "text": [
      "/var/folders/1f/y_fy20hs4fg7s0vqkf96q1x00000gp/T/ipykernel_9604/3287011123.py:84: FutureWarning: DataFrame.applymap has been deprecated. Use DataFrame.map instead.\n",
      "  earnings_df = earnings_df.applymap(lambda x: x.strip() if isinstance(x, str) else x)\n"
     ]
    },
    {
     "name": "stdout",
     "output_type": "stream",
     "text": [
      "<bound method NDFrame.head of          SYMBOL                                           COMPANY  \\\n",
      "0        AGSTRA                 AGS Transact Technologies Limited   \n",
      "1        APOLLO                      Apollo Micro Systems Limited   \n",
      "2    BAJFINANCE                             Bajaj Finance Limited   \n",
      "3     BLUECOAST                         Blue Coast Hotels Limited   \n",
      "4    DCMSHRIRAM                               DCM Shriram Limited   \n",
      "..          ...                                               ...   \n",
      "408    GILLETTE                            Gillette India Limited   \n",
      "409    GILLETTE                            Gillette India Limited   \n",
      "410        PGHH  Procter & Gamble Hygiene and Health Care Limited   \n",
      "411        PGHH  Procter & Gamble Hygiene and Health Care Limited   \n",
      "412  JAIPURKURT                          Nandani Creation Limited   \n",
      "\n",
      "                                      PURPOSE  \\\n",
      "0                           Financial Results   \n",
      "1                                Fund Raising   \n",
      "2    Financial Results/Other business matters   \n",
      "3                           Financial Results   \n",
      "4                           Financial Results   \n",
      "..                                        ...   \n",
      "408                Financial Results/Dividend   \n",
      "409                Financial Results/Dividend   \n",
      "410                Financial Results/Dividend   \n",
      "411                Financial Results/Dividend   \n",
      "412                    Other business matters   \n",
      "\n",
      "                                               DETAILS         DATE  \n",
      "0    To consider and approve the financial results ...  23-Jul-2024  \n",
      "1    To consider Fund Raising by issue of equity sh...  23-Jul-2024  \n",
      "2    To consider and approve the unaudited standalo...  23-Jul-2024  \n",
      "3    To consider and approve the financial results ...  23-Jul-2024  \n",
      "4    To consider and approve the financial results ...  23-Jul-2024  \n",
      "..                                                 ...          ...  \n",
      "408  To consider and approve the financial results ...  28-Aug-2024  \n",
      "409  With reference to the announcement dated June ...  28-Aug-2024  \n",
      "410  To consider and approve the financial results ...  29-Aug-2024  \n",
      "411  PGHH : 28-Aug-2024 :  The Company has informed...  29-Aug-2024  \n",
      "412                 To consider other business matters  01-Sep-2024  \n",
      "\n",
      "[413 rows x 5 columns]>\n",
      "CF-Event-equities-22-Jul-2024.csv\n",
      "File downloaded successfully: /Users/satish.dappure/Downloads/Bulk-Deals-15-07-2024-to-22-07-2024.csv\n"
     ]
    },
    {
     "name": "stderr",
     "output_type": "stream",
     "text": [
      "/var/folders/1f/y_fy20hs4fg7s0vqkf96q1x00000gp/T/ipykernel_9604/3287011123.py:103: FutureWarning: DataFrame.applymap has been deprecated. Use DataFrame.map instead.\n",
      "  bulk_deals_df = bulk_deals_df.applymap(lambda x: x.strip() if isinstance(x, str) else x)\n"
     ]
    },
    {
     "name": "stdout",
     "output_type": "stream",
     "text": [
      "            Date  Symbol              Security Name  \\\n",
      "0    15-JUL-2024  5PAISA     5paisa Capital Limited   \n",
      "1    15-JUL-2024  5PAISA     5paisa Capital Limited   \n",
      "2    15-JUL-2024   ACSAL         Arvind and Company   \n",
      "3    15-JUL-2024   ACSAL         Arvind and Company   \n",
      "4    15-JUL-2024   AMBEY     Ambey Laboratories Ltd   \n",
      "..           ...     ...                        ...   \n",
      "501  19-JUL-2024    TTML  Tata Teleservices (Mahara   \n",
      "502  19-JUL-2024    TTML  Tata Teleservices (Mahara   \n",
      "503  19-JUL-2024    TTML  Tata Teleservices (Mahara   \n",
      "504  19-JUL-2024  VSTIND        VST Industries Ltd.   \n",
      "505  19-JUL-2024  VSTIND        VST Industries Ltd.   \n",
      "\n",
      "                                           Client Name Buy / Sell  \\\n",
      "0                        GRAVITON RESEARCH CAPITAL LLP        BUY   \n",
      "1                        GRAVITON RESEARCH CAPITAL LLP       SELL   \n",
      "2                                  DEEPAK DHANJI PATEL        BUY   \n",
      "3                                     SALASAR AGENCIES        BUY   \n",
      "4    MULTIPLIER SHARE & STOCK ADVISORS PRIVATE LIMITED        BUY   \n",
      "..                                                 ...        ...   \n",
      "501                      GRAVITON RESEARCH CAPITAL LLP       SELL   \n",
      "502                               HRTI PRIVATE LIMITED        BUY   \n",
      "503                               HRTI PRIVATE LIMITED       SELL   \n",
      "504                      GRAVITON RESEARCH CAPITAL LLP        BUY   \n",
      "505                      GRAVITON RESEARCH CAPITAL LLP       SELL   \n",
      "\n",
      "    Quantity Traded Trade Price / Wght. Avg. Price Remarks  \n",
      "0          2,26,424                         527.50       -  \n",
      "1          2,26,424                         527.86       -  \n",
      "2          1,17,000                          85.96       -  \n",
      "3            63,000                          87.20       -  \n",
      "4            48,000                          89.15       -  \n",
      "..              ...                            ...     ...  \n",
      "501     2,38,19,918                         105.81       -  \n",
      "502     1,51,95,807                         105.34       -  \n",
      "503     1,49,57,558                         106.02       -  \n",
      "504          88,747                       4,674.17       -  \n",
      "505          88,747                       4,679.20       -  \n",
      "\n",
      "[506 rows x 8 columns]\n"
     ]
    }
   ],
   "source": [
    "from selenium import webdriver\n",
    "from selenium.webdriver.chrome.service import Service\n",
    "from selenium.webdriver.common.by import By\n",
    "from selenium.webdriver.support.ui import WebDriverWait\n",
    "from selenium.webdriver.support import expected_conditions as EC\n",
    "import os\n",
    "import time\n",
    "from webdriver_manager.chrome import ChromeDriverManager\n",
    "from datetime import datetime\n",
    "import pandas as pd\n",
    "import glob  \n",
    "\n",
    "current_date = datetime.now()\n",
    "formatted_date = current_date.strftime(\"%d-%b-%Y\")\n",
    "\n",
    "\n",
    "def getCsvFileName():\n",
    "    # Get the current date\n",
    "    current_date = datetime.now()\n",
    "\n",
    "    # Format the date as 'dd-MMM-yyyy'\n",
    "    formatted_date = current_date.strftime(\"%d-%b-%Y\")\n",
    "\n",
    "    # Create the new filename with the current date\n",
    "    filename = f\"CF-Event-equities-{formatted_date}.csv\"\n",
    "    return filename\n",
    "\n",
    "def getBulkCsvFileName():\n",
    "    today = datetime.date.today()  # Add parentheses here  \n",
    "    start_date = today - datetime.timedelta(days=7)  \n",
    "    end_date = today  \n",
    "\n",
    "    file_name = f\"Bulk-Deals-{start_date.strftime('%d-%m-%Y')}-to-{end_date.strftime('%d-%m-%Y')}.csv\"  \n",
    "    print(file_name)\n",
    "    return file_name\n",
    "\n",
    "def download_pdf(url ,buttonName):\n",
    "    # Initialize the WebDriver using WebDriver Manager\n",
    "    service = Service(ChromeDriverManager().install())\n",
    "    driver = webdriver.Chrome(service=service)\n",
    "    \n",
    "    # Open the NSE India corporate filings event calendar page\n",
    "    driver.get(url)\n",
    "    \n",
    "    try:\n",
    "        # Wait for the download button to be clickable\n",
    "        wait = WebDriverWait(driver, 20)\n",
    "        download_button = wait.until(EC.element_to_be_clickable((By.ID,buttonName)))\n",
    "\n",
    "        # Click the download button\n",
    "        download_button.click()\n",
    "        \n",
    "        # Wait for the file to download\n",
    "        time.sleep(5)  # Adjust sleep time as needed based on download speed\n",
    "\n",
    "        # Assuming the file is downloaded to the default download directory\n",
    "        download_dir = os.path.expanduser('~/Downloads')\n",
    "        downloaded_file_path = os.path.join(download_dir, 'Corporate Filings Event Calendar.csv')\n",
    "\n",
    "        # Check if the file was downloaded successfully\n",
    "        # if os.path.exists(downloaded_file_path):\n",
    "        #     print(f\"File downloaded successfully: {downloaded_file_path}\")\n",
    "        # else:\n",
    "        #     print(\"File download failed.\")\n",
    "    finally:\n",
    "        # Close the WebDriver\n",
    "        driver.quit()\n",
    "\n",
    "filename=getCsvFileName()\n",
    "download_dir = os.path.expanduser('~/Downloads')\n",
    "downloaded_file_path = os.path.join(download_dir, filename)\n",
    "\n",
    "print(filename)\n",
    "#Download earning dates\n",
    "for i in range(1, 10):  \n",
    "    if os.path.exists(downloaded_file_path):\n",
    "        print(f\"File downloaded successfully: {downloaded_file_path}\")\n",
    "        break     \n",
    "    download_pdf('https://www.nseindia.com/companies-listing/corporate-filings-event-calendar',\"CFeventCalendar-download\")\n",
    "\n",
    "# Load the CSV into a DataFrame\n",
    "earnings_df = pd.read_csv(downloaded_file_path)\n",
    "earnings_df.columns = earnings_df.columns.str.strip().str.replace('\\n', '', regex=False)\n",
    "earnings_df = earnings_df.applymap(lambda x: x.strip() if isinstance(x, str) else x)\n",
    "\n",
    "print(earnings_df.head)\n",
    "\n",
    "#downloaded_file_path = os.path.join(download_dir, getBulkCsvFileName())\n",
    "downloaded_file_path = os.path.join(download_dir,\"Bulk-Deals-15-07-2024-to-22-07-2024.csv\")\n",
    "\n",
    "print(filename)\n",
    "# Download earning dates\n",
    "for i in range(1, 10):  \n",
    "    if os.path.exists(downloaded_file_path):\n",
    "        print(f\"File downloaded successfully: {downloaded_file_path}\")\n",
    "        break    \n",
    "    download_pdf(\"https://www.nseindia.com/report-detail/display-bulk-and-block-deals\",'HistBulkBlockDeals-download')\n",
    "\n",
    "\n",
    "# Load the CSV into a DataFrame\n",
    "bulk_deals_df = pd.read_csv(downloaded_file_path)\n",
    "bulk_deals_df.columns = bulk_deals_df.columns.str.strip().str.replace('\\n', '', regex=False)\n",
    "bulk_deals_df = bulk_deals_df.applymap(lambda x: x.strip() if isinstance(x, str) else x)\n",
    "\n",
    "print(bulk_deals_df)\n"
   ]
  },
  {
   "cell_type": "code",
   "execution_count": 13,
   "metadata": {},
   "outputs": [
    {
     "name": "stdout",
     "output_type": "stream",
     "text": [
      "Index(['SYMBOL', 'COMPANY', 'PURPOSE', 'DETAILS', 'DATE'], dtype='object')\n"
     ]
    },
    {
     "data": {
      "text/plain": [
       "0        AGSTRA\n",
       "1        APOLLO\n",
       "2    BAJFINANCE\n",
       "3     BLUECOAST\n",
       "4    DCMSHRIRAM\n",
       "5    HERITGFOOD\n",
       "6    HINDUNILVR\n",
       "7     HUHTAMAKI\n",
       "8    ICICIPRULI\n",
       "9          ICRA\n",
       "Name: SYMBOL, dtype: object"
      ]
     },
     "execution_count": 13,
     "metadata": {},
     "output_type": "execute_result"
    }
   ],
   "source": [
    "print(earnings_df.columns)\n",
    "earnings_df[\"SYMBOL\"].head(10)\n",
    "\n"
   ]
  },
  {
   "cell_type": "code",
   "execution_count": 16,
   "metadata": {},
   "outputs": [
    {
     "name": "stdout",
     "output_type": "stream",
     "text": [
      "Index(['Date', 'Symbol', 'Security Name', 'Client Name', 'Buy / Sell',\n",
      "       'Quantity Traded', 'Trade Price / Wght. Avg. Price', 'Remarks'],\n",
      "      dtype='object')\n"
     ]
    },
    {
     "data": {
      "text/plain": [
       "0      5PAISA\n",
       "1      5PAISA\n",
       "2       ACSAL\n",
       "3       ACSAL\n",
       "4       AMBEY\n",
       "5       AMBEY\n",
       "6    ANIKINDS\n",
       "7       AWHCL\n",
       "8       AWHCL\n",
       "9     BAIDFIN\n",
       "Name: Symbol, dtype: object"
      ]
     },
     "execution_count": 16,
     "metadata": {},
     "output_type": "execute_result"
    }
   ],
   "source": [
    "print(bulk_deals_df.columns)\n",
    "bulk_deals_df[\"Symbol\"].head(10)\n"
   ]
  },
  {
   "cell_type": "code",
   "execution_count": 22,
   "metadata": {},
   "outputs": [
    {
     "name": "stdout",
     "output_type": "stream",
     "text": [
      "        SYMBOL  frequency                                            clients\n",
      "0   CHENNPETRO          2                    [GRAVITON RESEARCH CAPITAL LLP]\n",
      "1    CYBERTECH          8  [GRAVITON RESEARCH CAPITAL LLP, HRTI PRIVATE L...\n",
      "2     GODREJCP          1                                [R K N ENTERPRISES]\n",
      "3     HBLPOWER          2                    [GRAVITON RESEARCH CAPITAL LLP]\n",
      "4     KREBSBIO          4  [N.G.C.S. (P) LTD., NK SECURITIES RESEARCH PRI...\n",
      "5         MTNL         81  [CLT RESEARCH TECH PRIVATE LTD, GRAVITON RESEA...\n",
      "6        NOCIL          2                    [GRAVITON RESEARCH CAPITAL LLP]\n",
      "7     ONMOBILE          8  [GRAVITON RESEARCH CAPITAL LLP, HRTI PRIVATE L...\n",
      "8    PARAGMILK          2                    [GRAVITON RESEARCH CAPITAL LLP]\n",
      "9       PILITA         10  [HEMALI PATHIK THAKKAR, HJS SECURITIES PRIVATE...\n",
      "10   QUICKHEAL          2                    [GRAVITON RESEARCH CAPITAL LLP]\n",
      "11        TTML         10  [GRAVITON RESEARCH CAPITAL LLP, HRTI PRIVATE L...\n",
      "12      VSTIND          2                    [GRAVITON RESEARCH CAPITAL LLP]\n"
     ]
    }
   ],
   "source": [
    "# Rename columns to match\n",
    "bulk_deals_df.rename(columns={'Symbol':'SYMBOL'}, inplace=True)\n",
    "\n",
    "\n",
    "# Merge DataFrames on 'SYMBOL'\n",
    "merged_df = pd.merge(earnings_df, bulk_deals_df, on='SYMBOL', how='inner')\n",
    "\n",
    "merged_df.to_csv('matching_bulk_stocks.csv', index=False)\n",
    "\n",
    "# Group by 'SYMBOL' and aggregate\n",
    "result_df = merged_df.groupby('SYMBOL').agg(\n",
    "    frequency=('Client Name', 'size'),\n",
    "    clients=('Client Name', lambda x: list(x.unique()))\n",
    ").reset_index()\n",
    "\n",
    "# Rename columns\n",
    "result_df.columns = ['SYMBOL', 'frequency', 'clients']\n",
    "\n",
    "# Print the result DataFrame\n",
    "print(result_df)\n",
    "\n",
    "# Save to CSV\n",
    "result_df.to_csv('stock_frequency.csv', index=False)\n"
   ]
  },
  {
   "cell_type": "code",
   "execution_count": null,
   "metadata": {},
   "outputs": [],
   "source": []
  }
 ],
 "metadata": {
  "kernelspec": {
   "display_name": ".venv",
   "language": "python",
   "name": "python3"
  },
  "language_info": {
   "codemirror_mode": {
    "name": "ipython",
    "version": 3
   },
   "file_extension": ".py",
   "mimetype": "text/x-python",
   "name": "python",
   "nbconvert_exporter": "python",
   "pygments_lexer": "ipython3",
   "version": "3.9.6"
  }
 },
 "nbformat": 4,
 "nbformat_minor": 2
}
